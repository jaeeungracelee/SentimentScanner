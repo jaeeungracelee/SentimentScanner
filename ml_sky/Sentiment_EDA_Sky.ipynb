{
 "cells": [
  {
   "cell_type": "code",
   "execution_count": 3,
   "id": "132fb133",
   "metadata": {},
   "outputs": [],
   "source": [
    "import numpy as np \n",
    "import pandas as pd \n",
    "from statistics import *\n",
    "import matplotlib.pyplot as plt"
   ]
  },
  {
   "cell_type": "code",
   "execution_count": 6,
   "id": "85da428a",
   "metadata": {},
   "outputs": [],
   "source": [
    "#Logistic Regression\n",
    "from sklearn.linear_model import LogisticRegression\n",
    "from sklearn.metrics import classification_report, confusion_matrix\n",
    "\n",
    "# Encoder\n",
    "from sklearn.preprocessing import LabelEncoder"
   ]
  },
  {
   "cell_type": "code",
   "execution_count": null,
   "id": "b15a5a85",
   "metadata": {},
   "outputs": [],
   "source": [
    "model = LogisticRegression(solver='liblinear', random_state=0)\n",
    "encoded_x, encoded_y = trainEncoder()\n",
    "model_1.fit(encoded_x,encoded_y)"
   ]
  },
  {
   "cell_type": "code",
   "execution_count": null,
   "id": "ca892826",
   "metadata": {},
   "outputs": [],
   "source": [
    "#Helpers"
   ]
  },
  {
   "cell_type": "code",
   "execution_count": null,
   "id": "d27de945",
   "metadata": {},
   "outputs": [],
   "source": [
    "# Gets rid of rows with null"
   ]
  },
  {
   "cell_type": "code",
   "execution_count": null,
   "id": "a3bb15be",
   "metadata": {},
   "outputs": [],
   "source": [
    "# Encodes categorical training data and returns encoded predictios and y\n",
    "\n",
    "def trainEncoder():\n",
    "    \n",
    "    # Load Encoder\n",
    "    le = LabelEncoder()\n",
    "\n",
    "    label_homePlanet = le.fit_transform(space_df['HomePlanet'])\n",
    "    label_cryoSleep = le.fit_transform(space_df['CryoSleep'])\n",
    "    label_destination = le.fit_transform(space_df['Destination'])\n",
    "    label_vip = le.fit_transform(space_df['VIP'])\n",
    "    \n",
    "    deck = cabinSpliterTrain()[0]\n",
    "    num = cabinSpliterTrain()[1]\n",
    "    side = cabinSpliterTrain()[2]\n",
    "    \n",
    "    label_deck = le.fit_transform(deck)\n",
    "    label_num = le.fit_transform(num)\n",
    "    label_side = le.fit_transform(side)\n",
    "\n",
    "    logistic_selected_x = space_df.loc[:, ['Age','RoomService','FoodCourt','ShoppingMall','Spa','VRDeck']]\n",
    "    logistic_selected_x['HomePlanet'] = label_homePlanet\n",
    "    logistic_selected_x['CryoSleep'] = label_cryoSleep\n",
    "    logistic_selected_x['Destination'] = label_destination\n",
    "    logistic_selected_x['VIP'] = label_vip\n",
    "    logistic_selected_x['Deck'] = label_deck\n",
    "    logistic_selected_x['Num'] = label_num\n",
    "    logistic_selected_x['Side'] = label_side\n",
    "    logistic_selected_y = le.fit_transform(space_df['Transported'])\n",
    "    \n",
    "    return logistic_selected_x, logistic_selected_y"
   ]
  },
  {
   "cell_type": "code",
   "execution_count": null,
   "id": "fd9b6714",
   "metadata": {},
   "outputs": [],
   "source": [
    "# TEST Gather all selected features\n",
    "# TEST Encode categorical data\n",
    "def testEncoder():\n",
    "    le = LabelEncoder()\n",
    "    test_label_homePlanet = le.fit_transform(space_test_df['HomePlanet'])\n",
    "    test_label_cryoSleep = le.fit_transform(space_test_df['CryoSleep'])\n",
    "    test_label_destination = le.fit_transform(space_test_df['Destination'])\n",
    "    test_label_vip = le.fit_transform(space_test_df['VIP'])\n",
    "    \n",
    "    deck, num, side = cabinSpliterTest()\n",
    "    \n",
    "    test_label_deck = le.fit_transform(deck)\n",
    "    test_label_num = le.fit_transform(num)\n",
    "    test_label_side = le.fit_transform(side)\n",
    "    \n",
    "    # Combin with continuous one\n",
    "    test_logistic_selected_x = space_test_df.loc[:, ['Age','RoomService','FoodCourt','ShoppingMall','Spa','VRDeck']]\n",
    "    test_logistic_selected_x['HomePlanet'] = test_label_homePlanet\n",
    "    test_logistic_selected_x['CryoSleep'] = test_label_cryoSleep\n",
    "    test_logistic_selected_x['Destination'] = test_label_destination\n",
    "    test_logistic_selected_x['VIP'] = test_label_vip\n",
    "    test_logistic_selected_x['Deck'] = test_label_deck\n",
    "    test_logistic_selected_x['Num'] = test_label_num\n",
    "    test_logistic_selected_x['Side'] = test_label_side\n",
    "\n",
    "    return test_logistic_selected_x"
   ]
  },
  {
   "cell_type": "code",
   "execution_count": null,
   "id": "eba4cbcb",
   "metadata": {},
   "outputs": [],
   "source": [
    "def accuracyTest(real, predicted):\n",
    "    \n",
    "    return (1 - sum(abs(real - predicted))/len(real))"
   ]
  },
  {
   "cell_type": "markdown",
   "id": "7b014163",
   "metadata": {},
   "source": [
    "# Read In Data"
   ]
  },
  {
   "cell_type": "code",
   "execution_count": 13,
   "id": "9f47be57",
   "metadata": {},
   "outputs": [
    {
     "name": "stdout",
     "output_type": "stream",
     "text": [
      "Detected encoding: Windows-1252\n",
      "DataFrame read with detected encoding:\n",
      "       textID                                               text  \\\n",
      "0  cb774db0d1                I`d have responded, if I were going   \n",
      "1  549e992a42      Sooo SAD I will miss you here in San Diego!!!   \n",
      "2  088c60f138                          my boss is bullying me...   \n",
      "3  9642c003ef                     what interview! leave me alone   \n",
      "4  358bd9e861   Sons of ****, why couldn`t they put them on t...   \n",
      "\n",
      "                         selected_text sentiment Time of Tweet Age of User  \\\n",
      "0  I`d have responded, if I were going   neutral       morning        0-20   \n",
      "1                             Sooo SAD  negative          noon       21-30   \n",
      "2                          bullying me  negative         night       31-45   \n",
      "3                       leave me alone  negative       morning       46-60   \n",
      "4                        Sons of ****,  negative          noon       60-70   \n",
      "\n",
      "       Country  Population -2020  Land Area (Km²)  Density (P/Km²)  \n",
      "0  Afghanistan          38928346         652860.0               60  \n",
      "1      Albania           2877797          27400.0              105  \n",
      "2      Algeria          43851044        2381740.0               18  \n",
      "3      Andorra             77265            470.0              164  \n",
      "4       Angola          32866272        1246700.0               26  \n"
     ]
    }
   ],
   "source": [
    "import chardet\n",
    "\n",
    "file_path = '../data/train.csv'\n",
    "# Detect file encoding\n",
    "with open(file_path, 'rb') as f:\n",
    "    result = chardet.detect(f.read())\n",
    "    detected_encoding = result['encoding']\n",
    "    print(f\"Detected encoding: {detected_encoding}\")\n",
    "\n",
    "# Read the CSV file using the detected encoding\n",
    "try:\n",
    "    df = pd.read_csv(file_path, encoding=detected_encoding)\n",
    "    print(\"DataFrame read with detected encoding:\")\n",
    "    print(df.head())\n",
    "except UnicodeDecodeError as e:\n",
    "    print(f\"UnicodeDecodeError with detected encoding: {e}\")"
   ]
  },
  {
   "cell_type": "code",
   "execution_count": 17,
   "id": "ffe957aa",
   "metadata": {},
   "outputs": [
    {
     "data": {
      "text/plain": [
       "Index(['textID', 'text', 'selected_text', 'sentiment', 'Time of Tweet',\n",
       "       'Age of User', 'Country', 'Population -2020', 'Land Area (Km²)',\n",
       "       'Density (P/Km²)'],\n",
       "      dtype='object')"
      ]
     },
     "execution_count": 17,
     "metadata": {},
     "output_type": "execute_result"
    }
   ],
   "source": [
    "df.columns"
   ]
  },
  {
   "cell_type": "markdown",
   "id": "ea36ed58",
   "metadata": {},
   "source": [
    "# EDA"
   ]
  },
  {
   "cell_type": "markdown",
   "id": "1f969057",
   "metadata": {},
   "source": [
    "### Distribution Of Labels"
   ]
  },
  {
   "cell_type": "code",
   "execution_count": 18,
   "id": "c4a87e1b",
   "metadata": {},
   "outputs": [
    {
     "data": {
      "text/plain": [
       "<AxesSubplot:xlabel='sentiment'>"
      ]
     },
     "execution_count": 18,
     "metadata": {},
     "output_type": "execute_result"
    },
    {
     "data": {
      "image/png": "[encoded data removed]",
      "text/plain": [
       "<Figure size 432x288 with 1 Axes>"
      ]
     },
     "metadata": {
      "needs_background": "light"
     },
     "output_type": "display_data"
    }
   ],
   "source": [
    "df['sentiment'].value_counts().plot(kind='bar')"
   ]
  },
  {
   "cell_type": "markdown",
   "id": "c5b39235",
   "metadata": {},
   "source": [
    "### Distribution of Time Of Tweet"
   ]
  },
  {
   "cell_type": "code",
   "execution_count": 22,
   "id": "bb94d3d9",
   "metadata": {},
   "outputs": [
    {
     "data": {
      "text/plain": [
       "<AxesSubplot:xlabel='Time of Tweet'>"
      ]
     },
     "execution_count": 22,
     "metadata": {},
     "output_type": "execute_result"
    },
    {
     "data": {
      "image/png": "[encoded data removed]",
      "text/plain": [
       "<Figure size 432x288 with 1 Axes>"
      ]
     },
     "metadata": {
      "needs_background": "light"
     },
     "output_type": "display_data"
    }
   ],
   "source": [
    "df['Time of Tweet'].value_counts().plot(kind='bar')"
   ]
  },
  {
   "cell_type": "markdown",
   "id": "ad9f872a",
   "metadata": {},
   "source": [
    "### Correlation with Sentiment"
   ]
  },
  {
   "cell_type": "markdown",
   "id": "832fd630",
   "metadata": {},
   "source": [
    "##### Seems to gave nearly no correlation"
   ]
  },
  {
   "cell_type": "code",
   "execution_count": 29,
   "id": "ac9655f9",
   "metadata": {},
   "outputs": [
    {
     "data": {
      "text/plain": [
       "sentiment\n",
       "neutral     3763\n",
       "positive    2837\n",
       "negative    2561\n",
       "Name: count, dtype: int64"
      ]
     },
     "execution_count": 29,
     "metadata": {},
     "output_type": "execute_result"
    }
   ],
   "source": [
    "df_morning = df[df['Time of Tweet']=='morning']\n",
    "df_morning['sentiment'].value_counts()#.plot(kind='bar')"
   ]
  },
  {
   "cell_type": "code",
   "execution_count": 30,
   "id": "4baaa457",
   "metadata": {},
   "outputs": [
    {
     "data": {
      "text/plain": [
       "sentiment\n",
       "neutral     3675\n",
       "positive    2883\n",
       "negative    2602\n",
       "Name: count, dtype: int64"
      ]
     },
     "execution_count": 30,
     "metadata": {},
     "output_type": "execute_result"
    }
   ],
   "source": [
    "df_noon = df[df['Time of Tweet']=='noon']\n",
    "df_noon['sentiment'].value_counts()#.plot(kind='bar')"
   ]
  },
  {
   "cell_type": "code",
   "execution_count": 28,
   "id": "7770f59c",
   "metadata": {},
   "outputs": [
    {
     "data": {
      "text/plain": [
       "sentiment\n",
       "neutral     3680\n",
       "positive    2862\n",
       "negative    2618\n",
       "Name: count, dtype: int64"
      ]
     },
     "execution_count": 28,
     "metadata": {},
     "output_type": "execute_result"
    }
   ],
   "source": [
    "df_night = df[df['Time of Tweet']=='night']\n",
    "df_night['sentiment'].value_counts()"
   ]
  },
  {
   "cell_type": "markdown",
   "id": "62083709",
   "metadata": {},
   "source": [
    "### Distribution of Age Group"
   ]
  },
  {
   "cell_type": "code",
   "execution_count": 21,
   "id": "7c861d4d",
   "metadata": {},
   "outputs": [
    {
     "data": {
      "text/plain": [
       "<AxesSubplot:xlabel='Age of User'>"
      ]
     },
     "execution_count": 21,
     "metadata": {},
     "output_type": "execute_result"
    },
    {
     "data": {
      "image/png": "[encoded data removed]",
      "text/plain": [
       "<Figure size 432x288 with 1 Axes>"
      ]
     },
     "metadata": {
      "needs_background": "light"
     },
     "output_type": "display_data"
    }
   ],
   "source": [
    "df['Age of User'].value_counts().plot(kind='bar')"
   ]
  },
  {
   "cell_type": "markdown",
   "id": "817a1eef",
   "metadata": {},
   "source": [
    "### Correlation with sentiment"
   ]
  },
  {
   "cell_type": "code",
   "execution_count": 34,
   "id": "c792770b",
   "metadata": {},
   "outputs": [
    {
     "data": {
      "text/plain": [
       "<AxesSubplot:xlabel='sentiment'>"
      ]
     },
     "execution_count": 34,
     "metadata": {},
     "output_type": "execute_result"
    },
    {
     "data": {
      "image/png": "[encoded data removed]",
      "text/plain": [
       "<Figure size 432x288 with 1 Axes>"
      ]
     },
     "metadata": {
      "needs_background": "light"
     },
     "output_type": "display_data"
    }
   ],
   "source": [
    "df_20 = df[df['Age of User']=='0-20']\n",
    "temp_sum = sum(df_20['sentiment'].value_counts())\n",
    "(df_20['sentiment'].value_counts()*100/temp_sum).plot(kind='bar')"
   ]
  },
  {
   "cell_type": "code",
   "execution_count": 36,
   "id": "f32ec0b2",
   "metadata": {},
   "outputs": [
    {
     "data": {
      "text/plain": [
       "<AxesSubplot:xlabel='sentiment'>"
      ]
     },
     "execution_count": 36,
     "metadata": {},
     "output_type": "execute_result"
    },
    {
     "data": {
      "image/png": "[encoded data removed]",
      "text/plain": [
       "<Figure size 432x288 with 1 Axes>"
      ]
     },
     "metadata": {
      "needs_background": "light"
     },
     "output_type": "display_data"
    }
   ],
   "source": [
    "df_30 = df[df['Age of User']=='21-30']\n",
    "temp_sum = sum(df_30['sentiment'].value_counts())\n",
    "(df_30['sentiment'].value_counts()*100/temp_sum).plot(kind='bar')"
   ]
  },
  {
   "cell_type": "code",
   "execution_count": 37,
   "id": "620060f0",
   "metadata": {},
   "outputs": [
    {
     "data": {
      "text/plain": [
       "<AxesSubplot:xlabel='sentiment'>"
      ]
     },
     "execution_count": 37,
     "metadata": {},
     "output_type": "execute_result"
    },
    {
     "data": {
      "image/png": "[encoded data removed]",
      "text/plain": [
       "<Figure size 432x288 with 1 Axes>"
      ]
     },
     "metadata": {
      "needs_background": "light"
     },
     "output_type": "display_data"
    }
   ],
   "source": [
    "df_45 = df[df['Age of User']=='31-45']\n",
    "temp_sum = sum(df_45['sentiment'].value_counts())\n",
    "(df_45['sentiment'].value_counts()*100/temp_sum).plot(kind='bar')"
   ]
  },
  {
   "cell_type": "code",
   "execution_count": 38,
   "id": "6266a707",
   "metadata": {},
   "outputs": [
    {
     "data": {
      "text/plain": [
       "<AxesSubplot:xlabel='sentiment'>"
      ]
     },
     "execution_count": 38,
     "metadata": {},
     "output_type": "execute_result"
    },
    {
     "data": {
      "image/png": "[encoded data removed]",
      "text/plain": [
       "<Figure size 432x288 with 1 Axes>"
      ]
     },
     "metadata": {
      "needs_background": "light"
     },
     "output_type": "display_data"
    }
   ],
   "source": [
    "df_60 = df[df['Age of User']=='46-60']\n",
    "temp_sum = sum(df_60['sentiment'].value_counts())\n",
    "(df_60['sentiment'].value_counts()*100/temp_sum).plot(kind='bar')"
   ]
  },
  {
   "cell_type": "code",
   "execution_count": 40,
   "id": "909b39fa",
   "metadata": {},
   "outputs": [
    {
     "data": {
      "text/plain": [
       "<AxesSubplot:xlabel='sentiment'>"
      ]
     },
     "execution_count": 40,
     "metadata": {},
     "output_type": "execute_result"
    },
    {
     "data": {
      "image/png": "[encoded data removed]",
      "text/plain": [
       "<Figure size 432x288 with 1 Axes>"
      ]
     },
     "metadata": {
      "needs_background": "light"
     },
     "output_type": "display_data"
    }
   ],
   "source": [
    "df_70 = df[df['Age of User']=='60-70']\n",
    "temp_sum = sum(df_70['sentiment'].value_counts())\n",
    "(df_70['sentiment'].value_counts()*100/temp_sum).plot(kind='bar')"
   ]
  },
  {
   "cell_type": "code",
   "execution_count": 41,
   "id": "8dd7e8b0",
   "metadata": {},
   "outputs": [
    {
     "data": {
      "text/plain": [
       "<AxesSubplot:xlabel='sentiment'>"
      ]
     },
     "execution_count": 41,
     "metadata": {},
     "output_type": "execute_result"
    },
    {
     "data": {
      "image/png": "[encoded data removed]",
      "text/plain": [
       "<Figure size 432x288 with 1 Axes>"
      ]
     },
     "metadata": {
      "needs_background": "light"
     },
     "output_type": "display_data"
    }
   ],
   "source": [
    "df_100 = df[df['Age of User']=='70-100']\n",
    "temp_sum = sum(df_100['sentiment'].value_counts())\n",
    "(df_100['sentiment'].value_counts()*100/temp_sum).plot(kind='bar')"
   ]
  },
  {
   "cell_type": "markdown",
   "id": "90e83a14",
   "metadata": {},
   "source": [
    "### Distribution Of Population"
   ]
  },
  {
   "cell_type": "code",
   "execution_count": 53,
   "id": "65b69280",
   "metadata": {},
   "outputs": [
    {
     "data": {
      "text/plain": [
       "39971856.32541824"
      ]
     },
     "execution_count": 53,
     "metadata": {},
     "output_type": "execute_result"
    }
   ],
   "source": [
    "df_neutral = df[df['sentiment']=='neutral']\n",
    "mean(df_neutral['Population -2020'])"
   ]
  },
  {
   "cell_type": "code",
   "execution_count": 54,
   "id": "6d3ec64b",
   "metadata": {},
   "outputs": [
    {
     "data": {
      "text/plain": [
       "40474615.76415754"
      ]
     },
     "execution_count": 54,
     "metadata": {},
     "output_type": "execute_result"
    }
   ],
   "source": [
    "df_positive = df[df['sentiment']=='positive']\n",
    "mean(df_positive['Population -2020'])"
   ]
  },
  {
   "cell_type": "code",
   "execution_count": 55,
   "id": "361c390c",
   "metadata": {},
   "outputs": [
    {
     "data": {
      "text/plain": [
       "40170007.18390952"
      ]
     },
     "execution_count": 55,
     "metadata": {},
     "output_type": "execute_result"
    }
   ],
   "source": [
    "df_negative = df[df['sentiment']=='negative']\n",
    "mean(df_negative['Population -2020'])"
   ]
  },
  {
   "cell_type": "code",
   "execution_count": 56,
   "id": "c1a767fd",
   "metadata": {},
   "outputs": [
    {
     "name": "stdout",
     "output_type": "stream",
     "text": [
      "             negative   neutral  positive  Population -2020\n",
      "Country                                                    \n",
      "Afghanistan  0.268456  0.442953  0.288591          38928346\n",
      "Albania      0.315436  0.395973  0.288591           2877797\n",
      "Algeria      0.342282  0.369128  0.288591          43851044\n",
      "Andorra      0.315436  0.362416  0.322148             77265\n",
      "Angola       0.322148  0.362416  0.315436          32866272\n",
      "...               ...       ...       ...               ...\n",
      "Venezuela    0.149606  0.440945  0.409449          28435940\n",
      "Vietnam      0.228346  0.440945  0.330709          97338579\n",
      "Yemen        0.330709  0.385827  0.283465          29825964\n",
      "Zambia       0.251969  0.346457  0.401575          18383955\n",
      "Zimbabwe     0.291339  0.354331  0.354331          14862924\n",
      "\n",
      "[195 rows x 4 columns]\n"
     ]
    }
   ],
   "source": [
    "# Group by country and sentiment, then calculate counts\n",
    "sentiment_counts = df.groupby(['Country', 'sentiment']).size().unstack(fill_value=0)\n",
    "\n",
    "# Calculate total sentiments per country\n",
    "sentiment_totals = sentiment_counts.sum(axis=1)\n",
    "\n",
    "# Calculate sentiment ratios\n",
    "sentiment_ratios = sentiment_counts.div(sentiment_totals, axis=0)\n",
    "\n",
    "# Get population data for each country\n",
    "population = df[['Country', 'Population -2020']].drop_duplicates().set_index('Country')\n",
    "\n",
    "# Combine sentiment ratios with population data\n",
    "sentiment_ratios = sentiment_ratios.join(population)\n",
    "\n",
    "print(sentiment_ratios)\n"
   ]
  },
  {
   "cell_type": "code",
   "execution_count": 64,
   "id": "8fd26dff",
   "metadata": {},
   "outputs": [
    {
     "data": {
      "image/png": "[encoded data removed]",
      "text/plain": [
       "<Figure size 720x432 with 1 Axes>"
      ]
     },
     "metadata": {
      "needs_background": "light"
     },
     "output_type": "display_data"
    }
   ],
   "source": [
    "# Plot positive sentiment ratio against population\n",
    "plt.figure(figsize=(10, 6))\n",
    "# plt.scatter(sentiment_ratios['Population -2020'], sentiment_ratios['positive'], label='Positive', color='g')\n",
    "plt.scatter(sentiment_ratios['Population -2020'], sentiment_ratios['negative'], label='Negative', color='r')\n",
    "plt.xlabel('Population')\n",
    "plt.ylabel('Sentiment Ratio')\n",
    "plt.xlim(0,0.25*1e8)\n",
    "plt.title('Sentiment Ratios by Population')\n",
    "plt.legend()\n",
    "plt.grid(True)\n",
    "plt.show()\n"
   ]
  },
  {
   "cell_type": "code",
   "execution_count": null,
   "id": "ac0abd4e",
   "metadata": {},
   "outputs": [],
   "source": []
  }
 ],
 "metadata": {
  "kernelspec": {
   "display_name": "Python 3",
   "language": "python",
   "name": "python3"
  },
  "language_info": {
   "codemirror_mode": {
    "name": "ipython",
    "version": 3
   },
   "file_extension": ".py",
   "mimetype": "text/x-python",
   "name": "python",
   "nbconvert_exporter": "python",
   "pygments_lexer": "ipython3",
   "version": "3.8.10"
  }
 },
 "nbformat": 4,
 "nbformat_minor": 5
}
